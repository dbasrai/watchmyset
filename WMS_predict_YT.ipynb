{
  "nbformat": 4,
  "nbformat_minor": 0,
  "metadata": {
    "colab": {
      "name": "WMS_predict_YT.ipynb",
      "provenance": [],
      "collapsed_sections": [],
      "authorship_tag": "ABX9TyMw6AxTvA8H4+mf64tyGdzf",
      "include_colab_link": true
    },
    "kernelspec": {
      "name": "python3",
      "display_name": "Python 3"
    }
  },
  "cells": [
    {
      "cell_type": "markdown",
      "metadata": {
        "id": "view-in-github",
        "colab_type": "text"
      },
      "source": [
        "<a href=\"https://colab.research.google.com/github/dbasrai/watchmyset/blob/master/WMS_predict_YT.ipynb\" target=\"_parent\"><img src=\"https://colab.research.google.com/assets/colab-badge.svg\" alt=\"Open In Colab\"/></a>"
      ]
    },
    {
      "cell_type": "code",
      "metadata": {
        "id": "cVa-amOpLxGf",
        "colab_type": "code",
        "colab": {}
      },
      "source": [
        "from google.colab import drive\n",
        "drive.mount('/content/gdrive')"
      ],
      "execution_count": 0,
      "outputs": []
    },
    {
      "cell_type": "code",
      "metadata": {
        "id": "v-zq885SbTCb",
        "colab_type": "code",
        "colab": {}
      },
      "source": [
        "!pip install pydub\n",
        "from pydub import AudioSegment\n",
        "from pydub.utils import make_chunks\n",
        "import os\n",
        "import ntpath\n",
        "import shutil\n",
        "import pandas as pd\n",
        "import numpy as np\n",
        "import matplotlib.pyplot as plt\n",
        "!python -m pip install --user numpy scipy matplotlib ipython jupyter pandas sympy nose\n",
        "!pip install python_speech_features\n",
        "from tqdm import tqdm\n",
        "from scipy.io import wavfile\n",
        "from python_speech_features import mfcc, logfbank\n",
        "\n",
        "def gen_chunks(audio_filename, output_folder):\n",
        "  myaudio = AudioSegment.from_file(audio_filename) \n",
        "  chunk_length_ms = 1000 # pydub calculates in millisec\n",
        "  chunks = make_chunks(myaudio, chunk_length_ms) #Make chunks of one sec\n",
        "  chunk_list = []\n",
        "\n",
        "  base_filename = ntpath.basename(audio_filename)\n",
        "\n",
        "  if len(base_filename) > 7:\n",
        "    vid_title = base_filename[0:6]\n",
        "  else:\n",
        "    vid_title = base_filename\n",
        "\n",
        "  #Export all of the individual chunks as wav files\n",
        "\n",
        "  for i, chunk in enumerate(chunks):\n",
        "      chunk_name = f\"{vid_title}chunk{i}.wav\"\n",
        "      print (\"exporting\", chunk_name)\n",
        "      chunk.export(f'{output_folder}/{chunk_name}', format=\"wav\")\n",
        "      chunk_list.append(chunk_name)\n",
        "  \n",
        "  chunk_list.pop()\n",
        "\n",
        "  return vid_title, chunk_list\n",
        "\n",
        "def delete_path(path):\n",
        "  for root, dirs, files in os.walk(path):\n",
        "      for f in files:\n",
        "          os.unlink(os.path.join(root, f))\n",
        "      for d in dirs:\n",
        "          shutil.rmtree(os.path.join(root, d))"
      ],
      "execution_count": 0,
      "outputs": []
    },
    {
      "cell_type": "code",
      "metadata": {
        "id": "YaxJhmosRq23",
        "colab_type": "code",
        "colab": {}
      },
      "source": [
        "!pip install youtube_dl\n",
        "from __future__ import unicode_literals\n",
        "import youtube_dl\n",
        "import os\n",
        "\n",
        "output_path = '/content/gdrive/My Drive/Colab Notebooks/youtube_dl_wav'\n",
        "chunk_path = '/content/gdrive/My Drive/Colab Notebooks/chunks'\n",
        "yt_url = 'https://www.youtube.com/watch?v=bCoJduAhbgs'\n",
        "\n",
        "ydl_opts = {\n",
        "    'outtmpl': os.path.join(output_path, '%(title)s-%(id)s.%(ext)s'),\n",
        "    'format': 'bestaudio/best',\n",
        "    'postprocessors': [{\n",
        "        'key': 'FFmpegExtractAudio',\n",
        "        'preferredcodec': 'wav',\n",
        "        'preferredquality': '192'\n",
        "    }],\n",
        "    'postprocessor_args': [\n",
        "        '-ar', '16000'\n",
        "    ],\n",
        "    'prefer_ffmpeg': True,\n",
        "    'keepvideo': True\n",
        "}\n",
        "with youtube_dl.YoutubeDL(ydl_opts) as ydl:\n",
        "  ydl.download([yt_url])\n",
        "\n",
        "for filename in os.listdir(output_path):\n",
        "    if filename.endswith(\".wav\"):\n",
        "      title, chunkname_list = gen_chunks(f'{output_path}/{filename}', chunk_path)\n",
        "\n",
        "delete_path(output_path)\n",
        "\n",
        "    "
      ],
      "execution_count": 0,
      "outputs": []
    },
    {
      "cell_type": "code",
      "metadata": {
        "id": "SXjIZ4l7Mw0i",
        "colab_type": "code",
        "outputId": "9764e1b3-460a-40ca-bce4-cb90e364ba21",
        "colab": {
          "base_uri": "https://localhost:8080/",
          "height": 52
        }
      },
      "source": [
        "import librosa\n",
        "from keras.models import load_model\n",
        "from sklearn.metrics import accuracy_score\n",
        "\n",
        "X_pred_list = []\n",
        "_min, _max = float('inf'), -float('inf')\n",
        "\n",
        "model_name = 'WMS_model_5.5k.model'\n",
        "model = load_model(f'/content/gdrive/My Drive/Colab Notebooks/models/{model_name}')\n",
        "\n",
        "for i in tqdm(chunkname_list):\n",
        "  signal, rate = librosa.load(f'{chunk_path}/{i}', sr=16000)\n",
        "  mel = mfcc(signal[:rate], rate, numcep=13, nfilt=26, nfft=512)\n",
        "  X_pred_list.append(mel)\n",
        "  _min = min(np.amin(X_pred_list), _min)\n",
        "  _max = max(np.amax(X_pred_list), _max)\n",
        "\n",
        "X_pred = np.array(X_pred_list)\n",
        "X_pred = (X_pred - _min) / (_max - _min)\n",
        "X_pred = X_pred.reshape(X_pred.shape[0], X_pred.shape[1], X_pred.shape[2])\n",
        "\n",
        "y_pred = model.predict(X_pred)\n",
        "\n",
        "y_guess = np.argmax(y_pred, axis=1)\n",
        "\n",
        "np.savetxt(f\"/content/gdrive/My Drive/Colab Notebooks/predictions/{model_name}_{title}_csv_predict.csv\", y_guess, delimiter=\",\")\n",
        "np.savetxt(f\"/content/gdrive/My Drive/Colab Notebooks/predictions/{model_name}_{title}_csv_probability.csv\", y_pred, delimiter=\",\")\n",
        "\n"
      ],
      "execution_count": 0,
      "outputs": [
        {
          "output_type": "stream",
          "text": [
            "Using TensorFlow backend.\n",
            "100%|██████████| 339/339 [00:51<00:00,  6.61it/s]\n"
          ],
          "name": "stderr"
        }
      ]
    },
    {
      "cell_type": "code",
      "metadata": {
        "id": "gRGKpS_g_uBM",
        "colab_type": "code",
        "colab": {}
      },
      "source": [
        "import math as math\n",
        "from matplotlib.pyplot import step, show\n",
        "import matplotlib.pyplot as plt\n",
        "\n",
        "numLaughter = np.count_nonzero(y_guess)\n",
        "laughPercent =  round((numLaughter / y_guess.size) * 100, 1)\n",
        "laughTimes = []\n",
        "laughTimesList = []\n",
        "numLaughs = 0\n",
        "check = 0\n",
        "\n",
        "for i in tqdm(range(y_guess.size)):\n",
        "  if (y_guess[i]==1 and check==0):\n",
        "    numLaughs=numLaughs+1\n",
        "    check = 1\n",
        "    laughTimes.append(i)\n",
        "  else:\n",
        "    check = y_guess[i]\n",
        "\n",
        "for i in tqdm(range(len(laughTimes))):\n",
        "  seconds = np.mod(laughTimes[i], 60)\n",
        "  minutes = np.floor_divide(laughTimes[i], 60)\n",
        "  laughTimesList.append('{0} minutes '.format(minutes) + 'and {0} seconds'.format(seconds))\n",
        "\n",
        "laughsPerMin = numLaughs / (y_guess.size/60)\n",
        "\n",
        "print('\\n{0} stats'.format(title))\n",
        "print('Laugh Percentage = {0}%'.format(laughPercent))\n",
        "print('Num Laughs = {0}'.format(numLaughs))\n",
        "print('Laughs Per Minute (LPM) = {0}'.format(round(laughsPerMin, 1)))\n",
        "print(\"\\n\".join(laughTimesList))\n",
        "\n",
        "plt.rcParams[\"figure.figsize\"] = (50,10)\n",
        "plt.title('Laughs Over Time')\n",
        "xaxis = np.arange(0, y_guess.shape[0])\n",
        "plt.xticks(np.arange(min(xaxis), max(xaxis)+1, 5.0))\n",
        "frame1 = plt.gca()\n",
        "frame1.axes.get_yaxis().set_visible(False)\n",
        "yaxis = y_guess\n",
        "step(xaxis, yaxis)\n",
        "plt.plot\n",
        "plt.savefig(f'/content/gdrive/My Drive/Colab Notebooks/plots/{title}_.png', dpi=100)"
      ],
      "execution_count": 0,
      "outputs": []
    }
  ]
}