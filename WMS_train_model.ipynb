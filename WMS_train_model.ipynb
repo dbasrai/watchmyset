{
  "nbformat": 4,
  "nbformat_minor": 0,
  "metadata": {
    "colab": {
      "name": "WMS_train_model.ipynb",
      "provenance": [],
      "authorship_tag": "ABX9TyOGQPggwPOrkLdh1F6JR+oj",
      "include_colab_link": true
    },
    "kernelspec": {
      "name": "python3",
      "display_name": "Python 3"
    }
  },
  "cells": [
    {
      "cell_type": "markdown",
      "metadata": {
        "id": "view-in-github",
        "colab_type": "text"
      },
      "source": [
        "<a href=\"https://colab.research.google.com/github/dbasrai/watchmyset/blob/master/WMS_train_model.ipynb\" target=\"_parent\"><img src=\"https://colab.research.google.com/assets/colab-badge.svg\" alt=\"Open In Colab\"/></a>"
      ]
    },
    {
      "cell_type": "code",
      "metadata": {
        "id": "qtUPMtwRsmNk",
        "colab_type": "code",
        "colab": {}
      },
      "source": [
        "from google.colab import drive\n",
        "drive.mount('/content/gdrive')"
      ],
      "execution_count": 0,
      "outputs": []
    },
    {
      "cell_type": "code",
      "metadata": {
        "id": "9Fo2eYrxssYt",
        "colab_type": "code",
        "colab": {}
      },
      "source": [
        "import os\n",
        "import pandas as pd\n",
        "import numpy as np\n",
        "import matplotlib.pyplot as plt\n",
        "!python -m pip install --user numpy scipy matplotlib ipython jupyter pandas sympy nose\n",
        "!pip install python_speech_features\n",
        "from tqdm import tqdm\n",
        "from scipy.io import wavfile\n",
        "from python_speech_features import mfcc, logfbank\n",
        "\n",
        "import librosa\n",
        "from keras.utils import to_categorical\n",
        "\n",
        "#RNN\n",
        "\n",
        "Z_mfcc = []\n",
        "name = []\n",
        "_min, _max = float('inf'), -float('inf')\n",
        "\n",
        "df = pd.DataFrame(columns=['name', 'laugh', 'x'])\n",
        "for filename in os.listdir('/content/gdrive/My Drive/Colab Notebooks/csv'):\n",
        "  df = pd.concat([df, pd.read_csv('/content/gdrive/My Drive/Colab Notebooks/csv/{0}'.format(filename))], ignore_index=True)\n",
        "\n",
        "#df=df[df.x!=1]\n",
        "\n",
        "for i in tqdm(range(df.shape[0])):\n",
        "  signal, rate = librosa.load('/content/gdrive/My Drive/Colab Notebooks/dataset/{0}'.format(df.name.iloc[i]), sr=16000)\n",
        "  mel = mfcc(signal[:rate], rate, numcep=13, nfilt=26, nfft=512)\n",
        "  Z_mfcc.append(mel)\n",
        "  _min = min(np.amin(Z_mfcc), _min)\n",
        "  _max = max(np.amax(Z_mfcc), _max)\n",
        "\n",
        "X = np.array(Z_mfcc)\n",
        "X = (X - _min) / (_max - _min)\n",
        "X = X.reshape(X.shape[0], X.shape[1], X.shape[2])\n",
        "\n",
        "Y = np.array(df.laugh)\n",
        "Y = to_categorical(Y, num_classes = 2)\n",
        "\n",
        "np.save('/content/gdrive/My Drive/Colab Notebooks/np_arrays/x_large_all.npy', X)\n",
        "np.save('/content/gdrive/My Drive/Colab Notebooks/np_arrays/y_large_all.npy', Y)\n",
        "\n",
        "X.shape, Y.shape"
      ],
      "execution_count": 0,
      "outputs": []
    },
    {
      "cell_type": "code",
      "metadata": {
        "id": "LrhUCsxDXVoR",
        "colab_type": "code",
        "colab": {}
      },
      "source": [
        "X = np.load('/content/gdrive/My Drive/Colab Notebooks/np_arrays/x_large_all.npy')\n",
        "Y = np.load('/content/gdrive/My Drive/Colab Notebooks/np_arrays/y_large_all.npy')"
      ],
      "execution_count": 0,
      "outputs": []
    },
    {
      "cell_type": "code",
      "metadata": {
        "id": "3A88LgJYs57-",
        "colab_type": "code",
        "colab": {}
      },
      "source": [
        "from keras.layers import Conv2D, MaxPool2D, Flatten, LSTM\n",
        "from keras.layers import Dropout, Dense, TimeDistributed\n",
        "from keras.models import Sequential\n",
        "from sklearn.utils.class_weight import compute_class_weight\n",
        "from keras.callbacks import ModelCheckpoint\n",
        "\n",
        "#RNN\n",
        "\n",
        "def get_recurrent_model():\n",
        "  model = Sequential()\n",
        "  model.add(LSTM(128, return_sequences=True, input_shape=input_shape))\n",
        "  model.add(LSTM(128, return_sequences=True))\n",
        "  model.add(Dropout(0.5))\n",
        "  model.add(TimeDistributed(Dense(64, activation='relu')))\n",
        "  model.add(TimeDistributed(Dense(32, activation='relu')))\n",
        "  model.add(TimeDistributed(Dense(16, activation='relu')))\n",
        "  model.add(TimeDistributed(Dense(8, activation='relu')))\n",
        "  model.add(Flatten())\n",
        "  model.add(Dense(2, activation='softmax'))\n",
        "  model.summary()\n",
        "  model.compile(loss='categorical_crossentropy', \n",
        "                optimizer='adam', \n",
        "                metrics=['acc'])\n",
        "  return model\n",
        "\n",
        "y_flat = np.argmax(Y, axis=1)\n",
        "class_weight = compute_class_weight('balanced', np.unique(y_flat), y_flat)\n",
        "input_shape = (X.shape[1], X.shape[2])\n",
        "model = get_recurrent_model()\n",
        "\n",
        "model_path = '/content/gdrive/My Drive/Colab Notebooks/models/WMS_model_6k.model'\n",
        "\n",
        "checkpoint = ModelCheckpoint(model_path, monitor = 'acc', verbose = 1, \n",
        "                             mode = 'max', save_best_only=True, \n",
        "                             save_weights_only = False, period=1)\n",
        "\n",
        "history = model.fit(X, Y, epochs=10, batch_size = 32, class_weight = class_weight, shuffle=True, callbacks=[checkpoint])"
      ],
      "execution_count": 0,
      "outputs": []
    },
    {
      "cell_type": "code",
      "metadata": {
        "id": "jNLT5-bXs-Qu",
        "colab_type": "code",
        "colab": {}
      },
      "source": [
        "import matplotlib.pyplot as plt\n",
        "\n",
        "# Plot training & validation accuracy values\n",
        "plt.plot(history.history['val_acc'])\n",
        "plt.title('Model accuracy')\n",
        "plt.ylabel('Val_Accuracy')\n",
        "plt.xlabel('Epoch')\n",
        "plt.legend(['Train', 'Test'], loc='upper left')\n",
        "plt.show()"
      ],
      "execution_count": 0,
      "outputs": []
    }
  ]
}